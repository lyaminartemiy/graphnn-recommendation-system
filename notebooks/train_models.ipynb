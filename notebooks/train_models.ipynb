{
 "cells": [
  {
   "cell_type": "code",
   "execution_count": 1,
   "metadata": {},
   "outputs": [],
   "source": [
    "import os\n",
    "import pandas as pd\n",
    "import torch\n",
    "from torch_geometric.loader import DataLoader\n",
    "import mlflow\n",
    "from datetime import datetime\n",
    "\n",
    "from src.modules.graph_nn.dataset import TransactionDataset\n",
    "from src.modules.graph_nn.model import TransactionGNN\n",
    "from src.modules.graph_nn.train import train_epoch, evaluate_epoch\n",
    "\n",
    "\n",
    "class Constants:\n",
    "    DEVICE = torch.device(\"cuda\" if torch.cuda.is_available() else \"cpu\")\n",
    "    BATCH_SIZE = 32\n",
    "    HIDDEN_DIM = 256\n",
    "    NUM_LAYERS = 5\n",
    "    NUM_HEADS = 4\n",
    "    SHUFFLE = False\n",
    "    TRAIN_SPLIT = 0.8\n",
    "\n",
    "    TRANSACTIONS_PATH = \"/Users/alfa/Documents/diplom/graphnn-recommendation-system/data/processed_transactions_train.csv\""
   ]
  },
  {
   "cell_type": "code",
   "execution_count": 2,
   "metadata": {},
   "outputs": [
    {
     "name": "stderr",
     "output_type": "stream",
     "text": [
      "Train Epoch:: 100%|██████████| 139/139 [00:01<00:00, 71.97it/s]\n",
      "Evaluate Epoch:: 100%|██████████| 35/35 [00:00<00:00, 280.63it/s]\n"
     ]
    },
    {
     "name": "stdout",
     "output_type": "stream",
     "text": [
      "Epoch: 000, Train Loss: 4.5858, Test Acc: 0.0275, Test Loss: 5.3499\n"
     ]
    },
    {
     "name": "stderr",
     "output_type": "stream",
     "text": [
      "Train Epoch:: 100%|██████████| 139/139 [00:01<00:00, 84.59it/s]\n",
      "Evaluate Epoch:: 100%|██████████| 35/35 [00:00<00:00, 264.11it/s]\n"
     ]
    },
    {
     "name": "stdout",
     "output_type": "stream",
     "text": [
      "Epoch: 001, Train Loss: 4.0653, Test Acc: 0.0229, Test Loss: 4.6426\n"
     ]
    },
    {
     "name": "stderr",
     "output_type": "stream",
     "text": [
      "Train Epoch:: 100%|██████████| 139/139 [00:01<00:00, 84.88it/s]\n",
      "Evaluate Epoch:: 100%|██████████| 35/35 [00:00<00:00, 287.06it/s]\n"
     ]
    },
    {
     "name": "stdout",
     "output_type": "stream",
     "text": [
      "Epoch: 002, Train Loss: 3.9080, Test Acc: 0.0037, Test Loss: 4.8047\n"
     ]
    },
    {
     "name": "stderr",
     "output_type": "stream",
     "text": [
      "Train Epoch:: 100%|██████████| 139/139 [00:01<00:00, 79.45it/s]\n",
      "Evaluate Epoch:: 100%|██████████| 35/35 [00:00<00:00, 308.62it/s]\n"
     ]
    },
    {
     "name": "stdout",
     "output_type": "stream",
     "text": [
      "Epoch: 003, Train Loss: 3.9612, Test Acc: 0.0037, Test Loss: 4.7843\n"
     ]
    },
    {
     "name": "stderr",
     "output_type": "stream",
     "text": [
      "Train Epoch:: 100%|██████████| 139/139 [00:01<00:00, 86.26it/s]\n",
      "Evaluate Epoch:: 100%|██████████| 35/35 [00:00<00:00, 290.69it/s]\n"
     ]
    },
    {
     "name": "stdout",
     "output_type": "stream",
     "text": [
      "Epoch: 004, Train Loss: 4.0247, Test Acc: 0.0229, Test Loss: 4.7250\n"
     ]
    },
    {
     "name": "stderr",
     "output_type": "stream",
     "text": [
      "Train Epoch:: 100%|██████████| 139/139 [00:01<00:00, 87.39it/s]\n",
      "Evaluate Epoch:: 100%|██████████| 35/35 [00:00<00:00, 329.10it/s]\n"
     ]
    },
    {
     "name": "stdout",
     "output_type": "stream",
     "text": [
      "Epoch: 005, Train Loss: 3.8434, Test Acc: 0.0137, Test Loss: 4.6891\n"
     ]
    },
    {
     "name": "stderr",
     "output_type": "stream",
     "text": [
      "Train Epoch:: 100%|██████████| 139/139 [00:01<00:00, 86.92it/s]\n",
      "Evaluate Epoch:: 100%|██████████| 35/35 [00:00<00:00, 292.60it/s]\n"
     ]
    },
    {
     "name": "stdout",
     "output_type": "stream",
     "text": [
      "Epoch: 006, Train Loss: 3.8914, Test Acc: 0.0302, Test Loss: 4.4827\n"
     ]
    },
    {
     "name": "stderr",
     "output_type": "stream",
     "text": [
      "Train Epoch:: 100%|██████████| 139/139 [00:01<00:00, 88.05it/s]\n",
      "Evaluate Epoch:: 100%|██████████| 35/35 [00:00<00:00, 291.21it/s]\n"
     ]
    },
    {
     "name": "stdout",
     "output_type": "stream",
     "text": [
      "Epoch: 007, Train Loss: 3.9913, Test Acc: 0.0197, Test Loss: 4.6946\n"
     ]
    },
    {
     "name": "stderr",
     "output_type": "stream",
     "text": [
      "Train Epoch:: 100%|██████████| 139/139 [00:01<00:00, 86.28it/s]\n",
      "Evaluate Epoch:: 100%|██████████| 35/35 [00:00<00:00, 247.20it/s]\n"
     ]
    },
    {
     "name": "stdout",
     "output_type": "stream",
     "text": [
      "Epoch: 008, Train Loss: 3.9102, Test Acc: 0.0252, Test Loss: 4.4999\n"
     ]
    },
    {
     "name": "stderr",
     "output_type": "stream",
     "text": [
      "Train Epoch:: 100%|██████████| 139/139 [00:01<00:00, 86.97it/s]\n",
      "Evaluate Epoch:: 100%|██████████| 35/35 [00:00<00:00, 306.55it/s]\n"
     ]
    },
    {
     "name": "stdout",
     "output_type": "stream",
     "text": [
      "Epoch: 009, Train Loss: 3.8100, Test Acc: 0.0147, Test Loss: 4.8127\n"
     ]
    },
    {
     "name": "stderr",
     "output_type": "stream",
     "text": [
      "Train Epoch:: 100%|██████████| 139/139 [00:01<00:00, 83.61it/s]\n",
      "Evaluate Epoch:: 100%|██████████| 35/35 [00:00<00:00, 288.60it/s]\n"
     ]
    },
    {
     "name": "stdout",
     "output_type": "stream",
     "text": [
      "Epoch: 010, Train Loss: 3.8558, Test Acc: 0.0101, Test Loss: 5.2898\n"
     ]
    },
    {
     "name": "stderr",
     "output_type": "stream",
     "text": [
      "Train Epoch:: 100%|██████████| 139/139 [00:01<00:00, 87.61it/s]\n",
      "Evaluate Epoch:: 100%|██████████| 35/35 [00:00<00:00, 320.06it/s]\n"
     ]
    },
    {
     "name": "stdout",
     "output_type": "stream",
     "text": [
      "Epoch: 011, Train Loss: 3.8240, Test Acc: 0.0105, Test Loss: 5.4995\n"
     ]
    },
    {
     "name": "stderr",
     "output_type": "stream",
     "text": [
      "Train Epoch:: 100%|██████████| 139/139 [00:01<00:00, 78.36it/s]\n",
      "Evaluate Epoch:: 100%|██████████| 35/35 [00:00<00:00, 288.28it/s]\n"
     ]
    },
    {
     "name": "stdout",
     "output_type": "stream",
     "text": [
      "Epoch: 012, Train Loss: 3.8622, Test Acc: 0.0188, Test Loss: 6.2459\n"
     ]
    },
    {
     "name": "stderr",
     "output_type": "stream",
     "text": [
      "Train Epoch:: 100%|██████████| 139/139 [00:01<00:00, 79.92it/s]\n",
      "Evaluate Epoch:: 100%|██████████| 35/35 [00:00<00:00, 314.63it/s]\n"
     ]
    },
    {
     "name": "stdout",
     "output_type": "stream",
     "text": [
      "Epoch: 013, Train Loss: 3.8818, Test Acc: 0.0243, Test Loss: 5.0371\n"
     ]
    },
    {
     "name": "stderr",
     "output_type": "stream",
     "text": [
      "Train Epoch:: 100%|██████████| 139/139 [00:01<00:00, 84.05it/s]\n",
      "Evaluate Epoch:: 100%|██████████| 35/35 [00:00<00:00, 269.85it/s]\n"
     ]
    },
    {
     "name": "stdout",
     "output_type": "stream",
     "text": [
      "Epoch: 014, Train Loss: 3.9039, Test Acc: 0.0325, Test Loss: 5.9824\n"
     ]
    },
    {
     "name": "stderr",
     "output_type": "stream",
     "text": [
      "Train Epoch:: 100%|██████████| 139/139 [00:01<00:00, 74.74it/s]\n",
      "Evaluate Epoch:: 100%|██████████| 35/35 [00:00<00:00, 279.78it/s]\n"
     ]
    },
    {
     "name": "stdout",
     "output_type": "stream",
     "text": [
      "Epoch: 015, Train Loss: 3.8600, Test Acc: 0.0160, Test Loss: 4.9770\n"
     ]
    },
    {
     "name": "stderr",
     "output_type": "stream",
     "text": [
      "Train Epoch:: 100%|██████████| 139/139 [00:02<00:00, 54.88it/s]\n",
      "Evaluate Epoch:: 100%|██████████| 35/35 [00:00<00:00, 254.90it/s]\n"
     ]
    },
    {
     "name": "stdout",
     "output_type": "stream",
     "text": [
      "Epoch: 016, Train Loss: 3.7840, Test Acc: 0.0078, Test Loss: 5.4748\n"
     ]
    },
    {
     "name": "stderr",
     "output_type": "stream",
     "text": [
      "Train Epoch:: 100%|██████████| 139/139 [00:02<00:00, 68.61it/s]\n",
      "Evaluate Epoch:: 100%|██████████| 35/35 [00:00<00:00, 206.25it/s]\n"
     ]
    },
    {
     "name": "stdout",
     "output_type": "stream",
     "text": [
      "Epoch: 017, Train Loss: 3.7545, Test Acc: 0.0032, Test Loss: 5.3522\n"
     ]
    },
    {
     "name": "stderr",
     "output_type": "stream",
     "text": [
      "Train Epoch:: 100%|██████████| 139/139 [00:02<00:00, 67.42it/s]\n",
      "Evaluate Epoch:: 100%|██████████| 35/35 [00:00<00:00, 278.24it/s]\n"
     ]
    },
    {
     "name": "stdout",
     "output_type": "stream",
     "text": [
      "Epoch: 018, Train Loss: 3.8779, Test Acc: 0.0160, Test Loss: 4.8032\n"
     ]
    },
    {
     "name": "stderr",
     "output_type": "stream",
     "text": [
      "Train Epoch:: 100%|██████████| 139/139 [00:01<00:00, 71.77it/s]\n",
      "Evaluate Epoch:: 100%|██████████| 35/35 [00:00<00:00, 293.86it/s]\n"
     ]
    },
    {
     "name": "stdout",
     "output_type": "stream",
     "text": [
      "Epoch: 019, Train Loss: 3.6987, Test Acc: 0.0096, Test Loss: 5.4173\n"
     ]
    },
    {
     "name": "stderr",
     "output_type": "stream",
     "text": [
      "Train Epoch:: 100%|██████████| 139/139 [00:01<00:00, 79.02it/s]\n",
      "Evaluate Epoch:: 100%|██████████| 35/35 [00:00<00:00, 262.87it/s]\n"
     ]
    },
    {
     "name": "stdout",
     "output_type": "stream",
     "text": [
      "Epoch: 020, Train Loss: 3.7082, Test Acc: 0.0215, Test Loss: 4.8604\n"
     ]
    },
    {
     "name": "stderr",
     "output_type": "stream",
     "text": [
      "Train Epoch:: 100%|██████████| 139/139 [00:01<00:00, 79.26it/s]\n",
      "Evaluate Epoch:: 100%|██████████| 35/35 [00:00<00:00, 275.73it/s]\n"
     ]
    },
    {
     "name": "stdout",
     "output_type": "stream",
     "text": [
      "Epoch: 021, Train Loss: 3.7352, Test Acc: 0.0041, Test Loss: 4.7422\n"
     ]
    },
    {
     "name": "stderr",
     "output_type": "stream",
     "text": [
      "Train Epoch:: 100%|██████████| 139/139 [00:01<00:00, 79.28it/s]\n",
      "Evaluate Epoch:: 100%|██████████| 35/35 [00:00<00:00, 270.70it/s]\n"
     ]
    },
    {
     "name": "stdout",
     "output_type": "stream",
     "text": [
      "Epoch: 022, Train Loss: 3.6524, Test Acc: 0.0124, Test Loss: 5.2926\n"
     ]
    },
    {
     "name": "stderr",
     "output_type": "stream",
     "text": [
      "Train Epoch:: 100%|██████████| 139/139 [00:01<00:00, 80.35it/s]\n",
      "Evaluate Epoch:: 100%|██████████| 35/35 [00:00<00:00, 263.35it/s]\n"
     ]
    },
    {
     "name": "stdout",
     "output_type": "stream",
     "text": [
      "Epoch: 023, Train Loss: 3.6994, Test Acc: 0.0280, Test Loss: 5.8043\n"
     ]
    },
    {
     "name": "stderr",
     "output_type": "stream",
     "text": [
      "Train Epoch:: 100%|██████████| 139/139 [00:01<00:00, 81.59it/s]\n",
      "Evaluate Epoch:: 100%|██████████| 35/35 [00:00<00:00, 275.98it/s]\n"
     ]
    },
    {
     "name": "stdout",
     "output_type": "stream",
     "text": [
      "Epoch: 024, Train Loss: 3.7935, Test Acc: 0.0270, Test Loss: 5.6051\n"
     ]
    },
    {
     "name": "stderr",
     "output_type": "stream",
     "text": [
      "Train Epoch:: 100%|██████████| 139/139 [00:01<00:00, 79.38it/s]\n",
      "Evaluate Epoch:: 100%|██████████| 35/35 [00:00<00:00, 261.22it/s]\n"
     ]
    },
    {
     "name": "stdout",
     "output_type": "stream",
     "text": [
      "Epoch: 025, Train Loss: 3.6603, Test Acc: 0.0362, Test Loss: 5.1722\n"
     ]
    },
    {
     "name": "stderr",
     "output_type": "stream",
     "text": [
      "Train Epoch:: 100%|██████████| 139/139 [00:01<00:00, 78.89it/s]\n",
      "Evaluate Epoch:: 100%|██████████| 35/35 [00:00<00:00, 275.37it/s]\n"
     ]
    },
    {
     "name": "stdout",
     "output_type": "stream",
     "text": [
      "Epoch: 026, Train Loss: 3.7957, Test Acc: 0.0261, Test Loss: 5.9447\n"
     ]
    },
    {
     "name": "stderr",
     "output_type": "stream",
     "text": [
      "Train Epoch:: 100%|██████████| 139/139 [00:01<00:00, 80.66it/s]\n",
      "Evaluate Epoch:: 100%|██████████| 35/35 [00:00<00:00, 260.79it/s]\n"
     ]
    },
    {
     "name": "stdout",
     "output_type": "stream",
     "text": [
      "Epoch: 027, Train Loss: 3.7298, Test Acc: 0.0449, Test Loss: 5.3629\n"
     ]
    },
    {
     "name": "stderr",
     "output_type": "stream",
     "text": [
      "Train Epoch:: 100%|██████████| 139/139 [00:01<00:00, 81.16it/s]\n",
      "Evaluate Epoch:: 100%|██████████| 35/35 [00:00<00:00, 236.26it/s]\n"
     ]
    },
    {
     "name": "stdout",
     "output_type": "stream",
     "text": [
      "Epoch: 028, Train Loss: 3.5070, Test Acc: 0.1022, Test Loss: 5.1497\n"
     ]
    },
    {
     "name": "stderr",
     "output_type": "stream",
     "text": [
      "Train Epoch:: 100%|██████████| 139/139 [00:01<00:00, 80.47it/s]\n",
      "Evaluate Epoch:: 100%|██████████| 35/35 [00:00<00:00, 269.44it/s]\n"
     ]
    },
    {
     "name": "stdout",
     "output_type": "stream",
     "text": [
      "Epoch: 029, Train Loss: 3.4039, Test Acc: 0.0339, Test Loss: 5.0826\n"
     ]
    },
    {
     "name": "stderr",
     "output_type": "stream",
     "text": [
      "Train Epoch:: 100%|██████████| 139/139 [00:01<00:00, 79.67it/s]\n",
      "Evaluate Epoch:: 100%|██████████| 35/35 [00:00<00:00, 268.49it/s]\n"
     ]
    },
    {
     "name": "stdout",
     "output_type": "stream",
     "text": [
      "Epoch: 030, Train Loss: 3.3593, Test Acc: 0.1274, Test Loss: 5.4122\n"
     ]
    },
    {
     "name": "stderr",
     "output_type": "stream",
     "text": [
      "Train Epoch:: 100%|██████████| 139/139 [00:01<00:00, 80.82it/s]\n",
      "Evaluate Epoch:: 100%|██████████| 35/35 [00:00<00:00, 270.78it/s]\n"
     ]
    },
    {
     "name": "stdout",
     "output_type": "stream",
     "text": [
      "Epoch: 031, Train Loss: 3.2811, Test Acc: 0.0454, Test Loss: 5.8137\n"
     ]
    },
    {
     "name": "stderr",
     "output_type": "stream",
     "text": [
      "Train Epoch:: 100%|██████████| 139/139 [00:01<00:00, 80.07it/s]\n",
      "Evaluate Epoch:: 100%|██████████| 35/35 [00:00<00:00, 283.38it/s]\n"
     ]
    },
    {
     "name": "stdout",
     "output_type": "stream",
     "text": [
      "Epoch: 032, Train Loss: 3.3001, Test Acc: 0.0779, Test Loss: 6.1318\n"
     ]
    },
    {
     "name": "stderr",
     "output_type": "stream",
     "text": [
      "Train Epoch:: 100%|██████████| 139/139 [00:01<00:00, 80.67it/s]\n",
      "Evaluate Epoch:: 100%|██████████| 35/35 [00:00<00:00, 276.63it/s]\n"
     ]
    },
    {
     "name": "stdout",
     "output_type": "stream",
     "text": [
      "Epoch: 033, Train Loss: 3.3082, Test Acc: 0.0857, Test Loss: 5.6808\n"
     ]
    },
    {
     "name": "stderr",
     "output_type": "stream",
     "text": [
      "Train Epoch:: 100%|██████████| 139/139 [00:01<00:00, 78.53it/s]\n",
      "Evaluate Epoch:: 100%|██████████| 35/35 [00:00<00:00, 277.27it/s]\n"
     ]
    },
    {
     "name": "stdout",
     "output_type": "stream",
     "text": [
      "Epoch: 034, Train Loss: 3.2403, Test Acc: 0.1210, Test Loss: 5.7876\n"
     ]
    },
    {
     "name": "stderr",
     "output_type": "stream",
     "text": [
      "Train Epoch:: 100%|██████████| 139/139 [00:01<00:00, 80.20it/s]\n",
      "Evaluate Epoch:: 100%|██████████| 35/35 [00:00<00:00, 278.86it/s]\n"
     ]
    },
    {
     "name": "stdout",
     "output_type": "stream",
     "text": [
      "Epoch: 035, Train Loss: 3.1076, Test Acc: 0.0898, Test Loss: 5.7574\n"
     ]
    },
    {
     "name": "stderr",
     "output_type": "stream",
     "text": [
      "Train Epoch:: 100%|██████████| 139/139 [00:01<00:00, 80.35it/s]\n",
      "Evaluate Epoch:: 100%|██████████| 35/35 [00:00<00:00, 276.05it/s]\n"
     ]
    },
    {
     "name": "stdout",
     "output_type": "stream",
     "text": [
      "Epoch: 036, Train Loss: 3.0913, Test Acc: 0.0394, Test Loss: 6.4859\n"
     ]
    },
    {
     "name": "stderr",
     "output_type": "stream",
     "text": [
      "Train Epoch:: 100%|██████████| 139/139 [00:01<00:00, 79.45it/s]\n",
      "Evaluate Epoch:: 100%|██████████| 35/35 [00:00<00:00, 281.95it/s]\n"
     ]
    },
    {
     "name": "stdout",
     "output_type": "stream",
     "text": [
      "Epoch: 037, Train Loss: 2.9960, Test Acc: 0.0706, Test Loss: 6.0556\n"
     ]
    },
    {
     "name": "stderr",
     "output_type": "stream",
     "text": [
      "Train Epoch:: 100%|██████████| 139/139 [00:01<00:00, 80.30it/s]\n",
      "Evaluate Epoch:: 100%|██████████| 35/35 [00:00<00:00, 264.62it/s]\n"
     ]
    },
    {
     "name": "stdout",
     "output_type": "stream",
     "text": [
      "Epoch: 038, Train Loss: 3.0014, Test Acc: 0.1416, Test Loss: 6.5184\n"
     ]
    },
    {
     "name": "stderr",
     "output_type": "stream",
     "text": [
      "Train Epoch:: 100%|██████████| 139/139 [00:01<00:00, 80.30it/s]\n",
      "Evaluate Epoch:: 100%|██████████| 35/35 [00:00<00:00, 282.99it/s]\n"
     ]
    },
    {
     "name": "stdout",
     "output_type": "stream",
     "text": [
      "Epoch: 039, Train Loss: 2.9802, Test Acc: 0.0412, Test Loss: 5.7795\n"
     ]
    },
    {
     "name": "stderr",
     "output_type": "stream",
     "text": [
      "Train Epoch:: 100%|██████████| 139/139 [00:01<00:00, 81.25it/s]\n",
      "Evaluate Epoch:: 100%|██████████| 35/35 [00:00<00:00, 272.79it/s]\n"
     ]
    },
    {
     "name": "stdout",
     "output_type": "stream",
     "text": [
      "Epoch: 040, Train Loss: 2.9408, Test Acc: 0.0220, Test Loss: 6.6421\n"
     ]
    },
    {
     "name": "stderr",
     "output_type": "stream",
     "text": [
      "Train Epoch:: 100%|██████████| 139/139 [00:01<00:00, 80.39it/s]\n",
      "Evaluate Epoch:: 100%|██████████| 35/35 [00:00<00:00, 267.98it/s]\n"
     ]
    },
    {
     "name": "stdout",
     "output_type": "stream",
     "text": [
      "Epoch: 041, Train Loss: 2.8086, Test Acc: 0.0312, Test Loss: 5.8070\n"
     ]
    },
    {
     "name": "stderr",
     "output_type": "stream",
     "text": [
      "Train Epoch:: 100%|██████████| 139/139 [00:01<00:00, 70.89it/s]\n",
      "Evaluate Epoch:: 100%|██████████| 35/35 [00:00<00:00, 195.31it/s]\n"
     ]
    },
    {
     "name": "stdout",
     "output_type": "stream",
     "text": [
      "Epoch: 042, Train Loss: 2.7631, Test Acc: 0.1334, Test Loss: 6.8319\n"
     ]
    },
    {
     "name": "stderr",
     "output_type": "stream",
     "text": [
      "Train Epoch:: 100%|██████████| 139/139 [00:02<00:00, 66.85it/s]\n",
      "Evaluate Epoch:: 100%|██████████| 35/35 [00:00<00:00, 275.05it/s]\n"
     ]
    },
    {
     "name": "stdout",
     "output_type": "stream",
     "text": [
      "Epoch: 043, Train Loss: 2.7874, Test Acc: 0.1558, Test Loss: 6.1246\n"
     ]
    },
    {
     "name": "stderr",
     "output_type": "stream",
     "text": [
      "Train Epoch:: 100%|██████████| 139/139 [00:01<00:00, 76.81it/s]\n",
      "Evaluate Epoch:: 100%|██████████| 35/35 [00:00<00:00, 257.34it/s]\n"
     ]
    },
    {
     "name": "stdout",
     "output_type": "stream",
     "text": [
      "Epoch: 044, Train Loss: 2.7239, Test Acc: 0.1352, Test Loss: 6.5983\n"
     ]
    },
    {
     "name": "stderr",
     "output_type": "stream",
     "text": [
      "Train Epoch:: 100%|██████████| 139/139 [00:01<00:00, 80.33it/s]\n",
      "Evaluate Epoch:: 100%|██████████| 35/35 [00:00<00:00, 269.11it/s]\n"
     ]
    },
    {
     "name": "stdout",
     "output_type": "stream",
     "text": [
      "Epoch: 045, Train Loss: 2.7135, Test Acc: 0.1347, Test Loss: 6.4445\n"
     ]
    },
    {
     "name": "stderr",
     "output_type": "stream",
     "text": [
      "Train Epoch:: 100%|██████████| 139/139 [00:01<00:00, 78.22it/s]\n",
      "Evaluate Epoch:: 100%|██████████| 35/35 [00:00<00:00, 281.55it/s]\n"
     ]
    },
    {
     "name": "stdout",
     "output_type": "stream",
     "text": [
      "Epoch: 046, Train Loss: 2.7570, Test Acc: 0.0898, Test Loss: 6.7491\n"
     ]
    },
    {
     "name": "stderr",
     "output_type": "stream",
     "text": [
      "Train Epoch:: 100%|██████████| 139/139 [00:01<00:00, 78.50it/s]\n",
      "Evaluate Epoch:: 100%|██████████| 35/35 [00:00<00:00, 259.95it/s]\n"
     ]
    },
    {
     "name": "stdout",
     "output_type": "stream",
     "text": [
      "Epoch: 047, Train Loss: 2.7137, Test Acc: 0.1292, Test Loss: 6.2098\n"
     ]
    },
    {
     "name": "stderr",
     "output_type": "stream",
     "text": [
      "Train Epoch:: 100%|██████████| 139/139 [00:01<00:00, 80.28it/s]\n",
      "Evaluate Epoch:: 100%|██████████| 35/35 [00:00<00:00, 262.79it/s]\n"
     ]
    },
    {
     "name": "stdout",
     "output_type": "stream",
     "text": [
      "Epoch: 048, Train Loss: 2.7672, Test Acc: 0.1522, Test Loss: 7.7678\n"
     ]
    },
    {
     "name": "stderr",
     "output_type": "stream",
     "text": [
      "Train Epoch:: 100%|██████████| 139/139 [00:01<00:00, 79.78it/s]\n",
      "Evaluate Epoch:: 100%|██████████| 35/35 [00:00<00:00, 260.38it/s]\n"
     ]
    },
    {
     "name": "stdout",
     "output_type": "stream",
     "text": [
      "Epoch: 049, Train Loss: 2.8526, Test Acc: 0.1494, Test Loss: 5.8625\n"
     ]
    },
    {
     "name": "stderr",
     "output_type": "stream",
     "text": [
      "Train Epoch:: 100%|██████████| 139/139 [00:01<00:00, 76.73it/s]\n",
      "Evaluate Epoch:: 100%|██████████| 35/35 [00:00<00:00, 275.08it/s]\n"
     ]
    },
    {
     "name": "stdout",
     "output_type": "stream",
     "text": [
      "Epoch: 050, Train Loss: 2.8759, Test Acc: 0.1558, Test Loss: 5.6275\n"
     ]
    },
    {
     "name": "stderr",
     "output_type": "stream",
     "text": [
      "Train Epoch:: 100%|██████████| 139/139 [00:01<00:00, 78.96it/s]\n",
      "Evaluate Epoch:: 100%|██████████| 35/35 [00:00<00:00, 278.64it/s]\n"
     ]
    },
    {
     "name": "stdout",
     "output_type": "stream",
     "text": [
      "Epoch: 051, Train Loss: 3.0513, Test Acc: 0.1334, Test Loss: 5.2984\n"
     ]
    },
    {
     "name": "stderr",
     "output_type": "stream",
     "text": [
      "Train Epoch:: 100%|██████████| 139/139 [00:01<00:00, 78.99it/s]\n",
      "Evaluate Epoch:: 100%|██████████| 35/35 [00:00<00:00, 279.11it/s]\n"
     ]
    },
    {
     "name": "stdout",
     "output_type": "stream",
     "text": [
      "Epoch: 052, Train Loss: 2.9353, Test Acc: 0.1274, Test Loss: 6.0444\n"
     ]
    },
    {
     "name": "stderr",
     "output_type": "stream",
     "text": [
      "Train Epoch:: 100%|██████████| 139/139 [00:01<00:00, 80.15it/s]\n",
      "Evaluate Epoch:: 100%|██████████| 35/35 [00:00<00:00, 265.55it/s]\n"
     ]
    },
    {
     "name": "stdout",
     "output_type": "stream",
     "text": [
      "Epoch: 053, Train Loss: 2.8043, Test Acc: 0.1384, Test Loss: 6.1465\n"
     ]
    },
    {
     "name": "stderr",
     "output_type": "stream",
     "text": [
      "Train Epoch:: 100%|██████████| 139/139 [00:01<00:00, 80.06it/s]\n",
      "Evaluate Epoch:: 100%|██████████| 35/35 [00:00<00:00, 289.71it/s]\n"
     ]
    },
    {
     "name": "stdout",
     "output_type": "stream",
     "text": [
      "Epoch: 054, Train Loss: 2.7133, Test Acc: 0.1375, Test Loss: 6.5004\n"
     ]
    },
    {
     "name": "stderr",
     "output_type": "stream",
     "text": [
      "Train Epoch:: 100%|██████████| 139/139 [00:01<00:00, 77.87it/s]\n",
      "Evaluate Epoch:: 100%|██████████| 35/35 [00:00<00:00, 261.81it/s]\n"
     ]
    },
    {
     "name": "stdout",
     "output_type": "stream",
     "text": [
      "Epoch: 055, Train Loss: 2.6613, Test Acc: 0.1567, Test Loss: 5.8192\n"
     ]
    },
    {
     "name": "stderr",
     "output_type": "stream",
     "text": [
      "Train Epoch:: 100%|██████████| 139/139 [00:01<00:00, 77.59it/s]\n",
      "Evaluate Epoch:: 100%|██████████| 35/35 [00:00<00:00, 223.21it/s]\n"
     ]
    },
    {
     "name": "stdout",
     "output_type": "stream",
     "text": [
      "Epoch: 056, Train Loss: 2.5902, Test Acc: 0.1347, Test Loss: 7.3444\n"
     ]
    },
    {
     "name": "stderr",
     "output_type": "stream",
     "text": [
      "Train Epoch:: 100%|██████████| 139/139 [00:01<00:00, 76.19it/s]\n",
      "Evaluate Epoch:: 100%|██████████| 35/35 [00:00<00:00, 308.92it/s]\n"
     ]
    },
    {
     "name": "stdout",
     "output_type": "stream",
     "text": [
      "Epoch: 057, Train Loss: 2.6325, Test Acc: 0.1343, Test Loss: 6.5053\n"
     ]
    },
    {
     "name": "stderr",
     "output_type": "stream",
     "text": [
      "Train Epoch:: 100%|██████████| 139/139 [00:01<00:00, 79.00it/s]\n",
      "Evaluate Epoch:: 100%|██████████| 35/35 [00:00<00:00, 281.41it/s]\n"
     ]
    },
    {
     "name": "stdout",
     "output_type": "stream",
     "text": [
      "Epoch: 058, Train Loss: 2.6387, Test Acc: 0.1407, Test Loss: 6.2512\n"
     ]
    },
    {
     "name": "stderr",
     "output_type": "stream",
     "text": [
      "Train Epoch:: 100%|██████████| 139/139 [00:01<00:00, 84.65it/s]\n",
      "Evaluate Epoch:: 100%|██████████| 35/35 [00:00<00:00, 282.08it/s]\n"
     ]
    },
    {
     "name": "stdout",
     "output_type": "stream",
     "text": [
      "Epoch: 059, Train Loss: 2.7821, Test Acc: 0.1489, Test Loss: 7.6263\n"
     ]
    },
    {
     "name": "stderr",
     "output_type": "stream",
     "text": [
      "Train Epoch:: 100%|██████████| 139/139 [00:01<00:00, 85.03it/s]\n",
      "Evaluate Epoch:: 100%|██████████| 35/35 [00:00<00:00, 304.88it/s]\n"
     ]
    },
    {
     "name": "stdout",
     "output_type": "stream",
     "text": [
      "Epoch: 060, Train Loss: 2.7492, Test Acc: 0.1522, Test Loss: 6.2593\n"
     ]
    },
    {
     "name": "stderr",
     "output_type": "stream",
     "text": [
      "Train Epoch:: 100%|██████████| 139/139 [00:01<00:00, 80.44it/s]\n",
      "Evaluate Epoch:: 100%|██████████| 35/35 [00:00<00:00, 312.62it/s]\n"
     ]
    },
    {
     "name": "stdout",
     "output_type": "stream",
     "text": [
      "Epoch: 061, Train Loss: 2.6430, Test Acc: 0.1503, Test Loss: 6.4204\n"
     ]
    },
    {
     "name": "stderr",
     "output_type": "stream",
     "text": [
      "Train Epoch:: 100%|██████████| 139/139 [00:01<00:00, 80.36it/s]\n",
      "Evaluate Epoch:: 100%|██████████| 35/35 [00:00<00:00, 308.57it/s]\n"
     ]
    },
    {
     "name": "stdout",
     "output_type": "stream",
     "text": [
      "Epoch: 062, Train Loss: 2.6626, Test Acc: 0.1558, Test Loss: 6.7674\n"
     ]
    },
    {
     "name": "stderr",
     "output_type": "stream",
     "text": [
      "Train Epoch:: 100%|██████████| 139/139 [00:01<00:00, 83.01it/s]\n",
      "Evaluate Epoch:: 100%|██████████| 35/35 [00:00<00:00, 268.71it/s]\n"
     ]
    },
    {
     "name": "stdout",
     "output_type": "stream",
     "text": [
      "Epoch: 063, Train Loss: 2.6334, Test Acc: 0.1425, Test Loss: 9.5010\n"
     ]
    },
    {
     "name": "stderr",
     "output_type": "stream",
     "text": [
      "Train Epoch:: 100%|██████████| 139/139 [00:01<00:00, 71.45it/s]\n",
      "Evaluate Epoch:: 100%|██████████| 35/35 [00:00<00:00, 268.00it/s]\n"
     ]
    },
    {
     "name": "stdout",
     "output_type": "stream",
     "text": [
      "Epoch: 064, Train Loss: 2.6126, Test Acc: 0.1485, Test Loss: 8.0190\n"
     ]
    },
    {
     "name": "stderr",
     "output_type": "stream",
     "text": [
      "Train Epoch:: 100%|██████████| 139/139 [00:01<00:00, 85.30it/s]\n",
      "Evaluate Epoch:: 100%|██████████| 35/35 [00:00<00:00, 287.51it/s]\n"
     ]
    },
    {
     "name": "stdout",
     "output_type": "stream",
     "text": [
      "Epoch: 065, Train Loss: 2.6314, Test Acc: 0.1476, Test Loss: 6.6670\n"
     ]
    },
    {
     "name": "stderr",
     "output_type": "stream",
     "text": [
      "Train Epoch:: 100%|██████████| 139/139 [00:01<00:00, 81.14it/s]\n",
      "Evaluate Epoch:: 100%|██████████| 35/35 [00:00<00:00, 268.53it/s]\n"
     ]
    },
    {
     "name": "stdout",
     "output_type": "stream",
     "text": [
      "Epoch: 066, Train Loss: 2.5480, Test Acc: 0.1563, Test Loss: 7.2207\n"
     ]
    },
    {
     "name": "stderr",
     "output_type": "stream",
     "text": [
      "Train Epoch:: 100%|██████████| 139/139 [00:01<00:00, 84.66it/s]\n",
      "Evaluate Epoch:: 100%|██████████| 35/35 [00:00<00:00, 266.12it/s]\n"
     ]
    },
    {
     "name": "stdout",
     "output_type": "stream",
     "text": [
      "Epoch: 067, Train Loss: 2.5019, Test Acc: 0.1604, Test Loss: 6.8495\n"
     ]
    },
    {
     "name": "stderr",
     "output_type": "stream",
     "text": [
      "Train Epoch:: 100%|██████████| 139/139 [00:01<00:00, 85.13it/s]\n",
      "Evaluate Epoch:: 100%|██████████| 35/35 [00:00<00:00, 281.45it/s]\n"
     ]
    },
    {
     "name": "stdout",
     "output_type": "stream",
     "text": [
      "Epoch: 068, Train Loss: 2.5165, Test Acc: 0.1577, Test Loss: 6.8537\n"
     ]
    },
    {
     "name": "stderr",
     "output_type": "stream",
     "text": [
      "Train Epoch:: 100%|██████████| 139/139 [00:01<00:00, 82.59it/s]\n",
      "Evaluate Epoch:: 100%|██████████| 35/35 [00:00<00:00, 288.01it/s]\n"
     ]
    },
    {
     "name": "stdout",
     "output_type": "stream",
     "text": [
      "Epoch: 069, Train Loss: 2.4552, Test Acc: 0.1526, Test Loss: 7.2525\n"
     ]
    },
    {
     "name": "stderr",
     "output_type": "stream",
     "text": [
      "Train Epoch:: 100%|██████████| 139/139 [00:01<00:00, 83.94it/s]\n",
      "Evaluate Epoch:: 100%|██████████| 35/35 [00:00<00:00, 259.23it/s]\n"
     ]
    },
    {
     "name": "stdout",
     "output_type": "stream",
     "text": [
      "Epoch: 070, Train Loss: 2.4805, Test Acc: 0.1577, Test Loss: 6.7271\n"
     ]
    },
    {
     "name": "stderr",
     "output_type": "stream",
     "text": [
      "Train Epoch:: 100%|██████████| 139/139 [00:01<00:00, 83.65it/s]\n",
      "Evaluate Epoch:: 100%|██████████| 35/35 [00:00<00:00, 292.31it/s]\n"
     ]
    },
    {
     "name": "stdout",
     "output_type": "stream",
     "text": [
      "Epoch: 071, Train Loss: 2.4700, Test Acc: 0.1531, Test Loss: 7.9289\n"
     ]
    },
    {
     "name": "stderr",
     "output_type": "stream",
     "text": [
      "Train Epoch:: 100%|██████████| 139/139 [00:01<00:00, 80.38it/s]\n",
      "Evaluate Epoch:: 100%|██████████| 35/35 [00:00<00:00, 309.59it/s]\n"
     ]
    },
    {
     "name": "stdout",
     "output_type": "stream",
     "text": [
      "Epoch: 072, Train Loss: 2.4262, Test Acc: 0.1558, Test Loss: 7.3908\n"
     ]
    },
    {
     "name": "stderr",
     "output_type": "stream",
     "text": [
      "Train Epoch:: 100%|██████████| 139/139 [00:01<00:00, 84.20it/s]\n",
      "Evaluate Epoch:: 100%|██████████| 35/35 [00:00<00:00, 312.55it/s]\n"
     ]
    },
    {
     "name": "stdout",
     "output_type": "stream",
     "text": [
      "Epoch: 073, Train Loss: 2.4184, Test Acc: 0.0912, Test Loss: 7.2355\n"
     ]
    },
    {
     "name": "stderr",
     "output_type": "stream",
     "text": [
      "Train Epoch:: 100%|██████████| 139/139 [00:01<00:00, 75.75it/s]\n",
      "Evaluate Epoch:: 100%|██████████| 35/35 [00:00<00:00, 261.72it/s]\n"
     ]
    },
    {
     "name": "stdout",
     "output_type": "stream",
     "text": [
      "Epoch: 074, Train Loss: 2.4167, Test Acc: 0.1526, Test Loss: 7.1414\n"
     ]
    },
    {
     "name": "stderr",
     "output_type": "stream",
     "text": [
      "Train Epoch:: 100%|██████████| 139/139 [00:01<00:00, 78.09it/s]\n",
      "Evaluate Epoch:: 100%|██████████| 35/35 [00:00<00:00, 317.19it/s]\n"
     ]
    },
    {
     "name": "stdout",
     "output_type": "stream",
     "text": [
      "Epoch: 075, Train Loss: 2.4086, Test Acc: 0.1503, Test Loss: 6.8221\n"
     ]
    },
    {
     "name": "stderr",
     "output_type": "stream",
     "text": [
      "Train Epoch:: 100%|██████████| 139/139 [00:01<00:00, 85.50it/s]\n",
      "Evaluate Epoch:: 100%|██████████| 35/35 [00:00<00:00, 279.86it/s]\n"
     ]
    },
    {
     "name": "stdout",
     "output_type": "stream",
     "text": [
      "Epoch: 076, Train Loss: 2.4095, Test Acc: 0.1361, Test Loss: 6.8250\n"
     ]
    },
    {
     "name": "stderr",
     "output_type": "stream",
     "text": [
      "Train Epoch:: 100%|██████████| 139/139 [00:01<00:00, 83.58it/s]\n",
      "Evaluate Epoch:: 100%|██████████| 35/35 [00:00<00:00, 322.93it/s]\n"
     ]
    },
    {
     "name": "stdout",
     "output_type": "stream",
     "text": [
      "Epoch: 077, Train Loss: 2.3769, Test Acc: 0.1434, Test Loss: 7.3217\n"
     ]
    },
    {
     "name": "stderr",
     "output_type": "stream",
     "text": [
      "Train Epoch:: 100%|██████████| 139/139 [00:01<00:00, 76.89it/s]\n",
      "Evaluate Epoch:: 100%|██████████| 35/35 [00:00<00:00, 281.18it/s]\n"
     ]
    },
    {
     "name": "stdout",
     "output_type": "stream",
     "text": [
      "Epoch: 078, Train Loss: 2.4011, Test Acc: 0.1535, Test Loss: 6.8546\n"
     ]
    },
    {
     "name": "stderr",
     "output_type": "stream",
     "text": [
      "Train Epoch:: 100%|██████████| 139/139 [00:01<00:00, 74.35it/s]\n",
      "Evaluate Epoch:: 100%|██████████| 35/35 [00:00<00:00, 141.13it/s]\n"
     ]
    },
    {
     "name": "stdout",
     "output_type": "stream",
     "text": [
      "Epoch: 079, Train Loss: 2.4313, Test Acc: 0.1522, Test Loss: 6.8628\n"
     ]
    },
    {
     "name": "stderr",
     "output_type": "stream",
     "text": [
      "Train Epoch:: 100%|██████████| 139/139 [00:01<00:00, 78.16it/s]\n",
      "Evaluate Epoch:: 100%|██████████| 35/35 [00:00<00:00, 299.08it/s]\n"
     ]
    },
    {
     "name": "stdout",
     "output_type": "stream",
     "text": [
      "Epoch: 080, Train Loss: 2.4029, Test Acc: 0.1540, Test Loss: 7.2155\n"
     ]
    },
    {
     "name": "stderr",
     "output_type": "stream",
     "text": [
      "Train Epoch:: 100%|██████████| 139/139 [00:01<00:00, 83.00it/s]\n",
      "Evaluate Epoch:: 100%|██████████| 35/35 [00:00<00:00, 294.21it/s]\n"
     ]
    },
    {
     "name": "stdout",
     "output_type": "stream",
     "text": [
      "Epoch: 081, Train Loss: 2.4048, Test Acc: 0.1499, Test Loss: 6.8340\n"
     ]
    },
    {
     "name": "stderr",
     "output_type": "stream",
     "text": [
      "Train Epoch:: 100%|██████████| 139/139 [00:01<00:00, 73.22it/s]\n",
      "Evaluate Epoch:: 100%|██████████| 35/35 [00:00<00:00, 299.58it/s]\n"
     ]
    },
    {
     "name": "stdout",
     "output_type": "stream",
     "text": [
      "Epoch: 082, Train Loss: 2.3947, Test Acc: 0.1558, Test Loss: 7.2601\n"
     ]
    },
    {
     "name": "stderr",
     "output_type": "stream",
     "text": [
      "Train Epoch:: 100%|██████████| 139/139 [00:01<00:00, 85.06it/s]\n",
      "Evaluate Epoch:: 100%|██████████| 35/35 [00:00<00:00, 308.35it/s]\n"
     ]
    },
    {
     "name": "stdout",
     "output_type": "stream",
     "text": [
      "Epoch: 083, Train Loss: 2.3653, Test Acc: 0.1682, Test Loss: 6.6436\n"
     ]
    },
    {
     "name": "stderr",
     "output_type": "stream",
     "text": [
      "Train Epoch:: 100%|██████████| 139/139 [00:01<00:00, 84.79it/s]\n",
      "Evaluate Epoch:: 100%|██████████| 35/35 [00:00<00:00, 322.00it/s]\n"
     ]
    },
    {
     "name": "stdout",
     "output_type": "stream",
     "text": [
      "Epoch: 084, Train Loss: 2.3814, Test Acc: 0.1522, Test Loss: 7.0746\n"
     ]
    },
    {
     "name": "stderr",
     "output_type": "stream",
     "text": [
      "Train Epoch:: 100%|██████████| 139/139 [00:01<00:00, 86.83it/s]\n",
      "Evaluate Epoch:: 100%|██████████| 35/35 [00:00<00:00, 307.83it/s]\n"
     ]
    },
    {
     "name": "stdout",
     "output_type": "stream",
     "text": [
      "Epoch: 085, Train Loss: 2.3655, Test Acc: 0.1494, Test Loss: 6.3597\n"
     ]
    },
    {
     "name": "stderr",
     "output_type": "stream",
     "text": [
      "Train Epoch:: 100%|██████████| 139/139 [00:01<00:00, 87.23it/s]\n",
      "Evaluate Epoch:: 100%|██████████| 35/35 [00:00<00:00, 286.46it/s]\n"
     ]
    },
    {
     "name": "stdout",
     "output_type": "stream",
     "text": [
      "Epoch: 086, Train Loss: 2.3634, Test Acc: 0.1581, Test Loss: 8.0046\n"
     ]
    },
    {
     "name": "stderr",
     "output_type": "stream",
     "text": [
      "Train Epoch:: 100%|██████████| 139/139 [00:01<00:00, 86.60it/s]\n",
      "Evaluate Epoch:: 100%|██████████| 35/35 [00:00<00:00, 278.44it/s]\n"
     ]
    },
    {
     "name": "stdout",
     "output_type": "stream",
     "text": [
      "Epoch: 087, Train Loss: 2.4069, Test Acc: 0.1462, Test Loss: 6.8767\n"
     ]
    },
    {
     "name": "stderr",
     "output_type": "stream",
     "text": [
      "Train Epoch:: 100%|██████████| 139/139 [00:01<00:00, 86.84it/s]\n",
      "Evaluate Epoch:: 100%|██████████| 35/35 [00:00<00:00, 307.99it/s]\n"
     ]
    },
    {
     "name": "stdout",
     "output_type": "stream",
     "text": [
      "Epoch: 088, Train Loss: 2.4098, Test Acc: 0.1535, Test Loss: 8.2208\n"
     ]
    },
    {
     "name": "stderr",
     "output_type": "stream",
     "text": [
      "Train Epoch:: 100%|██████████| 139/139 [00:01<00:00, 86.39it/s]\n",
      "Evaluate Epoch:: 100%|██████████| 35/35 [00:00<00:00, 257.74it/s]\n"
     ]
    },
    {
     "name": "stdout",
     "output_type": "stream",
     "text": [
      "Epoch: 089, Train Loss: 2.4429, Test Acc: 0.1531, Test Loss: 6.8898\n"
     ]
    },
    {
     "name": "stderr",
     "output_type": "stream",
     "text": [
      "Train Epoch:: 100%|██████████| 139/139 [00:01<00:00, 85.52it/s]\n",
      "Evaluate Epoch:: 100%|██████████| 35/35 [00:00<00:00, 344.46it/s]\n"
     ]
    },
    {
     "name": "stdout",
     "output_type": "stream",
     "text": [
      "Epoch: 090, Train Loss: 2.6286, Test Acc: 0.1224, Test Loss: 6.6741\n"
     ]
    },
    {
     "name": "stderr",
     "output_type": "stream",
     "text": [
      "Train Epoch:: 100%|██████████| 139/139 [00:01<00:00, 86.04it/s]\n",
      "Evaluate Epoch:: 100%|██████████| 35/35 [00:00<00:00, 302.16it/s]\n"
     ]
    },
    {
     "name": "stdout",
     "output_type": "stream",
     "text": [
      "Epoch: 091, Train Loss: 2.5473, Test Acc: 0.1618, Test Loss: 6.3905\n"
     ]
    },
    {
     "name": "stderr",
     "output_type": "stream",
     "text": [
      "Train Epoch:: 100%|██████████| 139/139 [00:01<00:00, 86.92it/s]\n",
      "Evaluate Epoch:: 100%|██████████| 35/35 [00:00<00:00, 281.82it/s]\n"
     ]
    },
    {
     "name": "stdout",
     "output_type": "stream",
     "text": [
      "Epoch: 092, Train Loss: 2.4837, Test Acc: 0.1595, Test Loss: 8.2047\n"
     ]
    },
    {
     "name": "stderr",
     "output_type": "stream",
     "text": [
      "Train Epoch:: 100%|██████████| 139/139 [00:01<00:00, 85.94it/s]\n",
      "Evaluate Epoch:: 100%|██████████| 35/35 [00:00<00:00, 299.93it/s]\n"
     ]
    },
    {
     "name": "stdout",
     "output_type": "stream",
     "text": [
      "Epoch: 093, Train Loss: 2.4751, Test Acc: 0.1389, Test Loss: 6.5977\n"
     ]
    },
    {
     "name": "stderr",
     "output_type": "stream",
     "text": [
      "Train Epoch:: 100%|██████████| 139/139 [00:01<00:00, 76.44it/s]\n",
      "Evaluate Epoch:: 100%|██████████| 35/35 [00:00<00:00, 280.12it/s]\n"
     ]
    },
    {
     "name": "stdout",
     "output_type": "stream",
     "text": [
      "Epoch: 094, Train Loss: 2.5320, Test Acc: 0.1485, Test Loss: 6.9552\n"
     ]
    },
    {
     "name": "stderr",
     "output_type": "stream",
     "text": [
      "Train Epoch:: 100%|██████████| 139/139 [00:01<00:00, 77.09it/s]\n",
      "Evaluate Epoch:: 100%|██████████| 35/35 [00:00<00:00, 291.37it/s]\n"
     ]
    },
    {
     "name": "stdout",
     "output_type": "stream",
     "text": [
      "Epoch: 095, Train Loss: 2.4434, Test Acc: 0.1512, Test Loss: 6.4913\n"
     ]
    },
    {
     "name": "stderr",
     "output_type": "stream",
     "text": [
      "Train Epoch:: 100%|██████████| 139/139 [00:01<00:00, 83.18it/s]\n",
      "Evaluate Epoch:: 100%|██████████| 35/35 [00:00<00:00, 285.24it/s]\n"
     ]
    },
    {
     "name": "stdout",
     "output_type": "stream",
     "text": [
      "Epoch: 096, Train Loss: 2.4569, Test Acc: 0.1558, Test Loss: 7.4551\n"
     ]
    },
    {
     "name": "stderr",
     "output_type": "stream",
     "text": [
      "Train Epoch:: 100%|██████████| 139/139 [00:01<00:00, 85.09it/s]\n",
      "Evaluate Epoch:: 100%|██████████| 35/35 [00:00<00:00, 303.38it/s]\n"
     ]
    },
    {
     "name": "stdout",
     "output_type": "stream",
     "text": [
      "Epoch: 097, Train Loss: 2.5111, Test Acc: 0.1366, Test Loss: 6.7178\n"
     ]
    },
    {
     "name": "stderr",
     "output_type": "stream",
     "text": [
      "Train Epoch:: 100%|██████████| 139/139 [00:01<00:00, 72.57it/s]\n",
      "Evaluate Epoch:: 100%|██████████| 35/35 [00:00<00:00, 258.49it/s]\n"
     ]
    },
    {
     "name": "stdout",
     "output_type": "stream",
     "text": [
      "Epoch: 098, Train Loss: 2.4396, Test Acc: 0.1489, Test Loss: 7.6190\n"
     ]
    },
    {
     "name": "stderr",
     "output_type": "stream",
     "text": [
      "Train Epoch:: 100%|██████████| 139/139 [00:02<00:00, 68.36it/s]\n",
      "Evaluate Epoch:: 100%|██████████| 35/35 [00:00<00:00, 257.25it/s]"
     ]
    },
    {
     "name": "stdout",
     "output_type": "stream",
     "text": [
      "Epoch: 099, Train Loss: 2.5495, Test Acc: 0.1494, Test Loss: 6.6917\n"
     ]
    },
    {
     "name": "stderr",
     "output_type": "stream",
     "text": [
      "\n"
     ]
    }
   ],
   "source": [
    "# Загружаем транзакции и создаем torch dataset\n",
    "transactions = pd.read_parquet(Constants.TRANSACTIONS_PATH)\n",
    "graph_dataset = TransactionDataset(transactions)\n",
    "\n",
    "# Разделяем на train и test\n",
    "graph_train_size = int(Constants.TRAIN_SPLIT * len(graph_dataset))\n",
    "graph_train_dataset = torch.utils.data.Subset(graph_dataset, range(graph_train_size))\n",
    "graph_test_dataset = torch.utils.data.Subset(\n",
    "    graph_dataset, range(graph_train_size, len(graph_dataset))\n",
    ")\n",
    "\n",
    "# Создаем загрузчики данных\n",
    "graph_train_loader = DataLoader(\n",
    "    graph_train_dataset, batch_size=Constants.BATCH_SIZE, shuffle=Constants.SHUFFLE\n",
    ")\n",
    "graph_test_loader = DataLoader(\n",
    "    graph_test_dataset, batch_size=Constants.BATCH_SIZE, shuffle=Constants.SHUFFLE\n",
    ")\n",
    "\n",
    "# Инициализируем модель\n",
    "graph_model = TransactionGNN(\n",
    "    num_items=graph_dataset.num_items,\n",
    "    hidden_dim=Constants.HIDDEN_DIM,\n",
    "    num_layers=Constants.NUM_LAYERS,\n",
    "    num_heads=Constants.NUM_HEADS,\n",
    ").to(Constants.DEVICE)\n",
    "graph_optimizer = torch.optim.Adam(graph_model.parameters(), lr=0.001)\n",
    "\n",
    "# Обучение и оценка\n",
    "for epoch in range(100):\n",
    "    train_loss = train_epoch(\n",
    "        model=graph_model,\n",
    "        loader=graph_train_loader,\n",
    "        optimizer=graph_optimizer,\n",
    "        device=Constants.DEVICE,\n",
    "    )\n",
    "    test_acc, test_loss = evaluate_epoch(\n",
    "        model=graph_model,\n",
    "        loader=graph_test_loader,\n",
    "        device=Constants.DEVICE,\n",
    "    )\n",
    "    print(\n",
    "        f\"Epoch: {epoch:03d}, Train Loss: {train_loss:.4f}, Test Acc: {test_acc:.4f}, Test Loss: {test_loss:.4f}\"\n",
    "    )"
   ]
  },
  {
   "cell_type": "markdown",
   "metadata": {},
   "source": [
    "# Логирование артефактов моделей в MLFlow"
   ]
  },
  {
   "cell_type": "code",
   "execution_count": 3,
   "metadata": {},
   "outputs": [],
   "source": [
    "os.environ[\"AWS_ACCESS_KEY_ID\"] = \"minio\"\n",
    "os.environ[\"AWS_SECRET_ACCESS_KEY\"] = \"minio123\"\n",
    "os.environ[\"MLFLOW_S3_ENDPOINT_URL\"] = \"http://localhost:9000\""
   ]
  },
  {
   "cell_type": "code",
   "execution_count": 4,
   "metadata": {},
   "outputs": [
    {
     "name": "stderr",
     "output_type": "stream",
     "text": [
      "\u001b[31m2025/04/16 21:25:08 WARNING mlflow.models.model: Model logged without a signature and input example. Please set `input_example` parameter when logging the model to auto infer the model signature.\u001b[0m\n"
     ]
    },
    {
     "name": "stdout",
     "output_type": "stream",
     "text": [
      "🏃 View run model_20250416_212504 at: http://localhost:5000/#/experiments/3/runs/43d2dbcfc2e2476aa6d996dcf276ec4c\n",
      "🧪 View experiment at: http://localhost:5000/#/experiments/3\n"
     ]
    }
   ],
   "source": [
    "def save_model_to_mlflow():\n",
    "    mlflow.set_tracking_uri(\"http://localhost:5000\")\n",
    "    mlflow.set_experiment(\"graph-nn-model\")\n",
    "\n",
    "    with mlflow.start_run(run_name=f\"model_{datetime.now().strftime('%Y%m%d_%H%M%S')}\"):\n",
    "        # Сохраняем модель PyTorch\n",
    "        mlflow.pytorch.log_model(graph_model, \"model\")\n",
    "\n",
    "        # Сохраняем энкодер товаров\n",
    "        import joblib\n",
    "\n",
    "        joblib.dump(graph_dataset.item_encoder, \"item_encoder.pkl\")\n",
    "        mlflow.log_artifact(\"item_encoder.pkl\", \"encoders\")\n",
    "\n",
    "        # Логируем параметры модели\n",
    "        mlflow.log_params(\n",
    "            {\n",
    "                \"num_items\": graph_dataset.num_items,\n",
    "                \"hidden_dim\": Constants.HIDDEN_DIM,\n",
    "                \"num_layers\": Constants.NUM_LAYERS,\n",
    "                \"num_heads\": Constants.NUM_HEADS,\n",
    "            }\n",
    "        )\n",
    "\n",
    "\n",
    "save_model_to_mlflow()"
   ]
  }
 ],
 "metadata": {
  "kernelspec": {
   "display_name": "Python 3",
   "language": "python",
   "name": "python3"
  },
  "language_info": {
   "codemirror_mode": {
    "name": "ipython",
    "version": 3
   },
   "file_extension": ".py",
   "mimetype": "text/x-python",
   "name": "python",
   "nbconvert_exporter": "python",
   "pygments_lexer": "ipython3",
   "version": "3.10.10"
  }
 },
 "nbformat": 4,
 "nbformat_minor": 2
}
