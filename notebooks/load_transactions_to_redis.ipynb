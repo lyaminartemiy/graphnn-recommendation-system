{
 "cells": [
  {
   "cell_type": "markdown",
   "metadata": {},
   "source": [
    "# Загрузка \"потока событий\" в Redis"
   ]
  },
  {
   "cell_type": "code",
   "execution_count": 2,
   "metadata": {},
   "outputs": [],
   "source": [
    "from typing import Dict, List\n",
    "\n",
    "import redis\n",
    "import json\n",
    "\n",
    "import pandas as pd\n",
    "\n",
    "\n",
    "class Constants:\n",
    "    USER_ID = \"user_id\"\n",
    "    ITEM_ID = \"item_id\"\n",
    "    ITEMS_IDS = \"items_ids\"\n",
    "    TIMESTAMP = \"time\"\n",
    "\n",
    "    TRANSACTIONS_PATH = \"/Users/alfa/Documents/diplom/graphnn-recommendation-system/data/processed_transactions_train.csv\"\n",
    "\n",
    "\n",
    "def load_data_to_redis(user_sequences: List[Dict], r: redis.Redis) -> None:\n",
    "    \"\"\"\n",
    "    Загрузка данных в Redis\n",
    "    \"\"\"\n",
    "    for user_sequence in user_sequences:\n",
    "        user_id = user_sequence.get(Constants.USER_ID)\n",
    "        items_ids = user_sequence.get(Constants.ITEMS_IDS)\n",
    "\n",
    "        r.set(f\"user:{user_id}\", json.dumps(items_ids))\n",
    "\n",
    "    print(\"Данные успешно загружены в Redis\")\n",
    "\n",
    "\n",
    "# Подключение к Redis\n",
    "r = redis.Redis(\n",
    "    host=\"localhost\",\n",
    "    password=\"redis123\",\n",
    "    port=6379,\n",
    "    decode_responses=True,\n",
    ")"
   ]
  },
  {
   "cell_type": "code",
   "execution_count": 3,
   "metadata": {},
   "outputs": [
    {
     "name": "stdout",
     "output_type": "stream",
     "text": [
      "Данные успешно загружены в Redis\n"
     ]
    }
   ],
   "source": [
    "# Загрузка предобработанных транзакций\n",
    "transactions = pd.read_parquet(Constants.TRANSACTIONS_PATH)\n",
    "\n",
    "# Подготовка последовательностей для каждого пользователя\n",
    "user_sequences = (\n",
    "    transactions.groupby([Constants.USER_ID], as_index=False)[Constants.ITEM_ID]\n",
    "    .apply(list)\n",
    "    .rename(columns={Constants.ITEM_ID: Constants.ITEMS_IDS})\n",
    "    .to_dict(\"records\")\n",
    ")\n",
    "\n",
    "# Загрузка данных в Redis\n",
    "load_data_to_redis(user_sequences=user_sequences, r=r)"
   ]
  },
  {
   "cell_type": "code",
   "execution_count": 8,
   "metadata": {},
   "outputs": [
    {
     "name": "stdout",
     "output_type": "stream",
     "text": [
      "Товары пользователя 02703e242da346fc85f1aad21208d1103e62e705564c81ca2b6edf943032320a: [573716012, 573716012, 568597006, 568597006, 673677002, 673677002, 673677002, 565379002, 685816002, 562245050, 562245050, 399256005, 399256005, 573716012, 573716012, 562245050, 573716012, 573716012, 565379001, 730683001, 158340001, 111593001, 568601006, 568601006, 573716012, 573716012, 568597006, 573716012, 573716012, 573716012, 573716012, 573716012, 573716012, 573716012, 573716012, 573716012, 507909001, 599580038, 536139006, 684209013, 684209013, 572797002, 572797002, 572797002, 572797001, 572797001]\n"
     ]
    }
   ],
   "source": [
    "# Проверка данных для случайного пользователя\n",
    "user_id = \"02703e242da346fc85f1aad21208d1103e62e705564c81ca2b6edf943032320a\"\n",
    "data = r.get(f\"user:{user_id}\")\n",
    "\n",
    "if data:\n",
    "    items = json.loads(data)  # Десериализация из JSON\n",
    "    print(f\"Товары пользователя {user_id}: {items}\")\n",
    "else:\n",
    "    print(\"Ключ не найден\")"
   ]
  },
  {
   "cell_type": "code",
   "execution_count": null,
   "metadata": {},
   "outputs": [],
   "source": [
    "import requests\n",
    "\n",
    "response = requests.get(\n",
    "    \"http://localhost:8000/recommendations/personal_items/\",\n",
    "    params={\n",
    "        \"user_id\": \"test\"\n",
    "    },\n",
    ")\n",
    "response.json()"
   ]
  }
 ],
 "metadata": {
  "kernelspec": {
   "display_name": "Python 3",
   "language": "python",
   "name": "python3"
  },
  "language_info": {
   "codemirror_mode": {
    "name": "ipython",
    "version": 3
   },
   "file_extension": ".py",
   "mimetype": "text/x-python",
   "name": "python",
   "nbconvert_exporter": "python",
   "pygments_lexer": "ipython3",
   "version": "3.10.10"
  }
 },
 "nbformat": 4,
 "nbformat_minor": 2
}
