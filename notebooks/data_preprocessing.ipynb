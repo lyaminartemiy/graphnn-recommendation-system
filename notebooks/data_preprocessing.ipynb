{
 "cells": [
  {
   "cell_type": "markdown",
   "metadata": {},
   "source": [
    "# Предобработка данных для рекомендательной системы"
   ]
  },
  {
   "cell_type": "code",
   "execution_count": 1,
   "metadata": {},
   "outputs": [],
   "source": [
    "import pandas as pd\n",
    "\n",
    "\n",
    "class Constants:\n",
    "    USER_ID = \"user_id\"\n",
    "    ITEM_ID = \"item_id\"\n",
    "    TIMESTAMP = \"time\"\n",
    "\n",
    "    TRANSACTIONS_PATH = \"/Users/alfa/Documents/diplom/graphnn-recommendation-system/data/transactions_train.csv\"\n",
    "    RESULT_PATH = \"/Users/alfa/Documents/diplom/graphnn-recommendation-system/data/processed_transactions_train.csv\""
   ]
  },
  {
   "cell_type": "code",
   "execution_count": null,
   "metadata": {},
   "outputs": [],
   "source": [
    "def prepare_filtered_dataset(\n",
    "    transactions: pd.DataFrame,\n",
    "    num_customers: int = 100,\n",
    "    num_articles: int = 100,\n",
    "    min_articles_per_user: int = 5,\n",
    "    min_users_per_article: int = 5,\n",
    ") -> pd.DataFrame:\n",
    "    \"\"\"\n",
    "    Отбираем сбалансированный набор данных:\n",
    "    - num_customers: количество пользователей для отбора\n",
    "    - min_articles_per_user: минимальное количество покупок у пользователя\n",
    "    - min_users_per_article: минимальное количество покупателей у товара\n",
    "    \"\"\"\n",
    "\n",
    "    # Фильтрация товаров\n",
    "    article_popularity = transactions[Constants.ITEM_ID].value_counts()\n",
    "    popular_articles = article_popularity[article_popularity >= min_users_per_article]\n",
    "\n",
    "    # Отбираем топ-N самых активных пользователей\n",
    "    selected_articles = popular_articles.head(num_articles).index\n",
    "\n",
    "    # Окончательный набор данных\n",
    "    filtered_data = transactions[\n",
    "        transactions[Constants.ITEM_ID].isin(selected_articles)\n",
    "    ]\n",
    "\n",
    "    # Первичная фильтрация пользователей\n",
    "    user_purchase_counts = filtered_data[Constants.USER_ID].value_counts()\n",
    "    active_users = user_purchase_counts[user_purchase_counts >= min_articles_per_user]\n",
    "\n",
    "    # Отбираем топ-N самых активных пользователей\n",
    "    selected_users = active_users.head(num_customers).index\n",
    "\n",
    "    # Фильтруем транзакции только по выбранным пользователям\n",
    "    final_data = filtered_data[filtered_data[Constants.USER_ID].isin(selected_users)]\n",
    "\n",
    "    print(f\"Исходный размер данных: {len(transactions)} транзакций\")\n",
    "    print(f\"Отобрано пользователей: {len(selected_users)}\")\n",
    "    print(f\"Отобрано товаров: {len(selected_articles)}\")\n",
    "    print(f\"Финальный размер данных: {len(final_data)} транзакций\")\n",
    "\n",
    "    return final_data.reset_index(drop=True)"
   ]
  },
  {
   "cell_type": "code",
   "execution_count": 26,
   "metadata": {},
   "outputs": [],
   "source": [
    "transactions = pd.read_csv(Constants.TRANSACTIONS_PATH)\n",
    "transactions = transactions.rename(\n",
    "    columns={\n",
    "        \"t_dat\": Constants.TIMESTAMP,\n",
    "        \"customer_id\": Constants.USER_ID,\n",
    "        \"article_id\": Constants.ITEM_ID,\n",
    "    }\n",
    ")"
   ]
  },
  {
   "cell_type": "code",
   "execution_count": 27,
   "metadata": {},
   "outputs": [
    {
     "name": "stdout",
     "output_type": "stream",
     "text": [
      "Исходный размер данных: 31788324 транзакций\n",
      "Отобрано пользователей: 100\n",
      "Отобрано товаров: 91875\n",
      "Финальный размер данных: 5542 транзакций\n"
     ]
    }
   ],
   "source": [
    "filtered_transactions = prepare_filtered_dataset(transactions=transactions)\n",
    "# filtered_transactions = prepare_balanced_dataset(transactions=transactions)\n",
    "filtered_transactions.to_parquet(Constants.RESULT_PATH, index=False)"
   ]
  },
  {
   "cell_type": "code",
   "execution_count": 28,
   "metadata": {},
   "outputs": [
    {
     "data": {
      "text/html": [
       "<div>\n",
       "<style scoped>\n",
       "    .dataframe tbody tr th:only-of-type {\n",
       "        vertical-align: middle;\n",
       "    }\n",
       "\n",
       "    .dataframe tbody tr th {\n",
       "        vertical-align: top;\n",
       "    }\n",
       "\n",
       "    .dataframe thead th {\n",
       "        text-align: right;\n",
       "    }\n",
       "</style>\n",
       "<table border=\"1\" class=\"dataframe\">\n",
       "  <thead>\n",
       "    <tr style=\"text-align: right;\">\n",
       "      <th></th>\n",
       "      <th>time</th>\n",
       "      <th>user_id</th>\n",
       "      <th>item_id</th>\n",
       "      <th>price</th>\n",
       "      <th>sales_channel_id</th>\n",
       "    </tr>\n",
       "  </thead>\n",
       "  <tbody>\n",
       "    <tr>\n",
       "      <th>0</th>\n",
       "      <td>2018-09-20</td>\n",
       "      <td>000058a12d5b43e67d225668fa1f8d618c13dc232df0ca...</td>\n",
       "      <td>663713001</td>\n",
       "      <td>0.050831</td>\n",
       "      <td>2</td>\n",
       "    </tr>\n",
       "    <tr>\n",
       "      <th>1</th>\n",
       "      <td>2018-09-20</td>\n",
       "      <td>000058a12d5b43e67d225668fa1f8d618c13dc232df0ca...</td>\n",
       "      <td>541518023</td>\n",
       "      <td>0.030492</td>\n",
       "      <td>2</td>\n",
       "    </tr>\n",
       "    <tr>\n",
       "      <th>2</th>\n",
       "      <td>2018-09-20</td>\n",
       "      <td>00007d2de826758b65a93dd24ce629ed66842531df6699...</td>\n",
       "      <td>505221004</td>\n",
       "      <td>0.015237</td>\n",
       "      <td>2</td>\n",
       "    </tr>\n",
       "    <tr>\n",
       "      <th>3</th>\n",
       "      <td>2018-09-20</td>\n",
       "      <td>00007d2de826758b65a93dd24ce629ed66842531df6699...</td>\n",
       "      <td>685687003</td>\n",
       "      <td>0.016932</td>\n",
       "      <td>2</td>\n",
       "    </tr>\n",
       "    <tr>\n",
       "      <th>4</th>\n",
       "      <td>2018-09-20</td>\n",
       "      <td>00007d2de826758b65a93dd24ce629ed66842531df6699...</td>\n",
       "      <td>685687004</td>\n",
       "      <td>0.016932</td>\n",
       "      <td>2</td>\n",
       "    </tr>\n",
       "  </tbody>\n",
       "</table>\n",
       "</div>"
      ],
      "text/plain": [
       "         time                                            user_id    item_id  \\\n",
       "0  2018-09-20  000058a12d5b43e67d225668fa1f8d618c13dc232df0ca...  663713001   \n",
       "1  2018-09-20  000058a12d5b43e67d225668fa1f8d618c13dc232df0ca...  541518023   \n",
       "2  2018-09-20  00007d2de826758b65a93dd24ce629ed66842531df6699...  505221004   \n",
       "3  2018-09-20  00007d2de826758b65a93dd24ce629ed66842531df6699...  685687003   \n",
       "4  2018-09-20  00007d2de826758b65a93dd24ce629ed66842531df6699...  685687004   \n",
       "\n",
       "      price  sales_channel_id  \n",
       "0  0.050831                 2  \n",
       "1  0.030492                 2  \n",
       "2  0.015237                 2  \n",
       "3  0.016932                 2  \n",
       "4  0.016932                 2  "
      ]
     },
     "execution_count": 28,
     "metadata": {},
     "output_type": "execute_result"
    }
   ],
   "source": [
    "transactions.head()"
   ]
  },
  {
   "cell_type": "code",
   "execution_count": null,
   "metadata": {},
   "outputs": [],
   "source": []
  }
 ],
 "metadata": {
  "kernelspec": {
   "display_name": "Python 3",
   "language": "python",
   "name": "python3"
  },
  "language_info": {
   "codemirror_mode": {
    "name": "ipython",
    "version": 3
   },
   "file_extension": ".py",
   "mimetype": "text/x-python",
   "name": "python",
   "nbconvert_exporter": "python",
   "pygments_lexer": "ipython3",
   "version": "3.10.10"
  }
 },
 "nbformat": 4,
 "nbformat_minor": 2
}
